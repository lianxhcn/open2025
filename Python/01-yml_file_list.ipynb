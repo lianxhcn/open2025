{
 "cells": [
  {
   "cell_type": "markdown",
   "id": "1fbcf1f3",
   "metadata": {},
   "source": [
    "## 生成 YML 目录文件\n",
    "\n",
    "```markdown\n",
    "\n",
    "### input-output\n",
    "- Folder_input1：\"`D:\\Github_lianxh\\open2025\\body`\"\n",
    "- Folder_input2：\"`D:\\Github_lianxh\\open2025\\body2`\"\n",
    "\n",
    "### 任务：\n",
    "\n",
    "- 收集 {Folder_input} 和 {Folder_input2} 文件夹中所有文件名 'FileName_i.md'，存入一个列表 {Flist}\n",
    "- 按如下格式打印：\n",
    "'''\n",
    "        - \"body/FileName_1.md\"\n",
    "        - \"body/FileName_2.md\"\n",
    "        ……\n",
    "        - \"body2/FileName_n.md\"\n",
    "        - \"body2/FileName_m.md\"\n",
    "'''\n",
    "\n",
    "```\n"
   ]
  },
  {
   "cell_type": "code",
   "execution_count": 8,
   "id": "4ccdc231",
   "metadata": {},
   "outputs": [
    {
     "name": "stdout",
     "output_type": "stream",
     "text": [
      "'''\n",
      "        - \"body/0. 课程概览.md\"\n",
      "        - \"body/A. 报名和参与.md\"\n",
      "        - \"body/B. 课程缘起.md\"\n",
      "        - \"body/T1. Python：安装和环境配置.md\"\n",
      "        - \"body/T2. 工具变量：从 LATE 困境到 Shift-Share 争议.md\"\n",
      "        - \"body/T3. 生成式大语言模型在金融会计研究中的应用.md\"\n",
      "        - \"body/T4. 路径分析指南.md\"\n",
      "        - \"body/T5. AI 赋能微观调查数据清洗.md\"\n",
      "        - \"body2/X1-2025暑期班.md\"\n",
      "        - \"body2/X2-社会网络分析.md\"\n",
      "'''\n"
     ]
    }
   ],
   "source": [
    "import os\n",
    "\n",
    "# 输入文件夹路径\n",
    "folder_input1 = r\"D:\\Github_lianxh\\open2025\\body\"\n",
    "folder_input2 = r\"D:\\Github_lianxh\\open2025\\body2\"\n",
    "\n",
    "# 获取 .md 文件列表\n",
    "files1 = [f for f in os.listdir(folder_input1) if f.endswith('.md')]\n",
    "files2 = [f for f in os.listdir(folder_input2) if f.endswith('.md')]\n",
    "\n",
    "# 打印输出，格式如：\n",
    "#         - \"body/FileName_1.md\"\n",
    "#         - \"body2/FileName_n.md\"\n",
    "print(\"'''\")\n",
    "for f in sorted(files1):\n",
    "    print(f'        - \"body/{f}\"')\n",
    "for f in sorted(files2):\n",
    "    print(f'        - \"body2/{f}\"')\n",
    "print(\"'''\")\n"
   ]
  }
 ],
 "metadata": {
  "kernelspec": {
   "display_name": "base",
   "language": "python",
   "name": "python3"
  },
  "language_info": {
   "codemirror_mode": {
    "name": "ipython",
    "version": 3
   },
   "file_extension": ".py",
   "mimetype": "text/x-python",
   "name": "python",
   "nbconvert_exporter": "python",
   "pygments_lexer": "ipython3",
   "version": "3.12.7"
  }
 },
 "nbformat": 4,
 "nbformat_minor": 5
}
